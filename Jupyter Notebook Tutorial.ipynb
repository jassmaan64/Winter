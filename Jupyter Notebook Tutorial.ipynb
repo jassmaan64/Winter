{
 "cells": [
  {
   "cell_type": "markdown",
   "id": "a9c058b0",
   "metadata": {},
   "source": [
    "# Introduction to Jupyter Notebook"
   ]
  },
  {
   "cell_type": "markdown",
   "id": "81c9f36e",
   "metadata": {},
   "source": [
    "## Code Blocks :"
   ]
  },
  {
   "cell_type": "code",
   "execution_count": 19,
   "id": "d29dde1c",
   "metadata": {
    "scrolled": true
   },
   "outputs": [
    {
     "name": "stdout",
     "output_type": "stream",
     "text": [
      "Hello World\n"
     ]
    }
   ],
   "source": [
    "print(\"Hello World\")"
   ]
  },
  {
   "cell_type": "code",
   "execution_count": 15,
   "id": "d839d6b4",
   "metadata": {},
   "outputs": [
    {
     "name": "stdout",
     "output_type": "stream",
     "text": [
      "This is Bharath\n"
     ]
    }
   ],
   "source": [
    "print(\"This is Bharath\")"
   ]
  },
  {
   "cell_type": "code",
   "execution_count": 17,
   "id": "d2e819fe",
   "metadata": {},
   "outputs": [],
   "source": [
    "x=2"
   ]
  },
  {
   "cell_type": "code",
   "execution_count": 18,
   "id": "d391120c",
   "metadata": {},
   "outputs": [
    {
     "name": "stdout",
     "output_type": "stream",
     "text": [
      "2\n"
     ]
    }
   ],
   "source": [
    "print(x)"
   ]
  },
  {
   "cell_type": "code",
   "execution_count": 41,
   "id": "20e7a7c4",
   "metadata": {},
   "outputs": [
    {
     "name": "stdout",
     "output_type": "stream",
     "text": [
      "/home/bharath/ECS 171\n",
      "'Jupyter Notebook Tutorial.ipynb'\n",
      "Python 3.8.8\n",
      "conda 4.10.1\n"
     ]
    }
   ],
   "source": [
    "!pwd\n",
    "\n",
    "a = \".\"\n",
    "!ls {a}\n",
    "\n",
    "import sys\n",
    "!{sys.executable} --version\n",
    "!conda --version"
   ]
  },
  {
   "cell_type": "markdown",
   "id": "31662a6e",
   "metadata": {},
   "source": [
    "## Markdown Blocks :"
   ]
  },
  {
   "cell_type": "markdown",
   "id": "2aec3495",
   "metadata": {},
   "source": [
    "This is regular text"
   ]
  },
  {
   "cell_type": "markdown",
   "id": "e429ef4f",
   "metadata": {},
   "source": [
    "# This is a heading\n",
    "\n",
    "## This is a sub-heading"
   ]
  },
  {
   "cell_type": "markdown",
   "id": "d65301e8",
   "metadata": {},
   "source": [
    "This discussion can be summarized using these numbered points :\n",
    "1. Jupyter Notebook\n",
    "    1. Anaconda\n",
    "    2. Install using these bullet points :\n",
    "        - Download and install Anaconda\n",
    "        - Open Jupyter Notebook in Navigator\n",
    "2. [Github](https://www.github.com)"
   ]
  },
  {
   "cell_type": "markdown",
   "id": "e6d738bd",
   "metadata": {},
   "source": [
    "Here's a random equation :\n",
    "   \n",
    "$$\\sqrt{a^2 + b^2} = c^2\n",
    "$$"
   ]
  },
  {
   "cell_type": "markdown",
   "id": "b1902f88",
   "metadata": {},
   "source": [
    "Here's an image on the Jupyter logo :"
   ]
  },
  {
   "cell_type": "code",
   "execution_count": 2,
   "id": "ea201e07",
   "metadata": {
    "scrolled": true
   },
   "outputs": [
    {
     "data": {
      "text/html": [
       "<img src=\"https://s3-ap-south-1.amazonaws.com/av-blog-media/wp-content/uploads/2018/04/jupyter.png\"/>"
      ],
      "text/plain": [
       "<IPython.core.display.Image object>"
      ]
     },
     "execution_count": 2,
     "metadata": {},
     "output_type": "execute_result"
    }
   ],
   "source": [
    "from IPython.display import Image\n",
    "Image(url='https://s3-ap-south-1.amazonaws.com/av-blog-media/wp-content/uploads/2018/04/jupyter.png')"
   ]
  },
  {
   "cell_type": "markdown",
   "id": "06211a12",
   "metadata": {},
   "source": [
    "[Here are all the homework solutions.](https://mrgt.me/hello)"
   ]
  }
 ],
 "metadata": {
  "kernelspec": {
   "display_name": "Python 3",
   "language": "python",
   "name": "python3"
  },
  "language_info": {
   "codemirror_mode": {
    "name": "ipython",
    "version": 3
   },
   "file_extension": ".py",
   "mimetype": "text/x-python",
   "name": "python",
   "nbconvert_exporter": "python",
   "pygments_lexer": "ipython3",
   "version": "3.8.8"
  }
 },
 "nbformat": 4,
 "nbformat_minor": 5
}
